{
  "nbformat": 4,
  "nbformat_minor": 0,
  "metadata": {
    "colab": {
      "name": "Untitled6.ipynb",
      "provenance": [],
      "collapsed_sections": []
    },
    "kernelspec": {
      "display_name": "Python 3",
      "language": "python",
      "name": "python3"
    },
    "language_info": {
      "codemirror_mode": {
        "name": "ipython",
        "version": 3
      },
      "file_extension": ".py",
      "mimetype": "text/x-python",
      "name": "python",
      "nbconvert_exporter": "python",
      "pygments_lexer": "ipython3",
      "version": "3.7.1"
    }
  },
  "cells": [
    {
      "cell_type": "code",
      "metadata": {
        "colab": {
          "background_save": true
        },
        "id": "Nnou2IXki1Eo"
      },
      "source": [
        "import pandas as pd\n",
        "import pandas as pd\n",
        "pd.set_option('display.max_rows', None)\n",
        "pd.set_option('display.max_columns', None)\n",
        "pd.set_option('display.width', None)\n",
        "pd.set_option('display.max_colwidth', None)"
      ],
      "execution_count": null,
      "outputs": []
    },
    {
      "cell_type": "code",
      "metadata": {
        "colab": {
          "background_save": true
        },
        "id": "l1qptfRzi1Eu"
      },
      "source": [
        "data=pd.read_csv('train.csv')"
      ],
      "execution_count": null,
      "outputs": []
    },
    {
      "cell_type": "code",
      "metadata": {
        "colab": {
          "background_save": true
        },
        "id": "3yDx8ZWXi1Ev",
        "outputId": "005b0c7e-4fdb-4ac5-accf-197c0de2a414"
      },
      "source": [
        "data.head()"
      ],
      "execution_count": null,
      "outputs": [
        {
          "output_type": "execute_result",
          "data": {
            "text/html": [
              "<div>\n",
              "<style scoped>\n",
              "    .dataframe tbody tr th:only-of-type {\n",
              "        vertical-align: middle;\n",
              "    }\n",
              "\n",
              "    .dataframe tbody tr th {\n",
              "        vertical-align: top;\n",
              "    }\n",
              "\n",
              "    .dataframe thead th {\n",
              "        text-align: right;\n",
              "    }\n",
              "</style>\n",
              "<table border=\"1\" class=\"dataframe\">\n",
              "  <thead>\n",
              "    <tr style=\"text-align: right;\">\n",
              "      <th></th>\n",
              "      <th>UniqueID</th>\n",
              "      <th>disbursed_amount</th>\n",
              "      <th>asset_cost</th>\n",
              "      <th>ltv</th>\n",
              "      <th>branch_id</th>\n",
              "      <th>supplier_id</th>\n",
              "      <th>manufacturer_id</th>\n",
              "      <th>Current_pincode_ID</th>\n",
              "      <th>Date.of.Birth</th>\n",
              "      <th>Employment.Type</th>\n",
              "      <th>DisbursalDate</th>\n",
              "      <th>State_ID</th>\n",
              "      <th>Employee_code_ID</th>\n",
              "      <th>MobileNo_Avl_Flag</th>\n",
              "      <th>Aadhar_flag</th>\n",
              "      <th>PAN_flag</th>\n",
              "      <th>VoterID_flag</th>\n",
              "      <th>Driving_flag</th>\n",
              "      <th>Passport_flag</th>\n",
              "      <th>PERFORM_CNS.SCORE</th>\n",
              "      <th>PERFORM_CNS.SCORE.DESCRIPTION</th>\n",
              "      <th>PRI.NO.OF.ACCTS</th>\n",
              "      <th>PRI.ACTIVE.ACCTS</th>\n",
              "      <th>PRI.OVERDUE.ACCTS</th>\n",
              "      <th>PRI.CURRENT.BALANCE</th>\n",
              "      <th>PRI.SANCTIONED.AMOUNT</th>\n",
              "      <th>PRI.DISBURSED.AMOUNT</th>\n",
              "      <th>SEC.NO.OF.ACCTS</th>\n",
              "      <th>SEC.ACTIVE.ACCTS</th>\n",
              "      <th>SEC.OVERDUE.ACCTS</th>\n",
              "      <th>SEC.CURRENT.BALANCE</th>\n",
              "      <th>SEC.SANCTIONED.AMOUNT</th>\n",
              "      <th>SEC.DISBURSED.AMOUNT</th>\n",
              "      <th>PRIMARY.INSTAL.AMT</th>\n",
              "      <th>SEC.INSTAL.AMT</th>\n",
              "      <th>NEW.ACCTS.IN.LAST.SIX.MONTHS</th>\n",
              "      <th>DELINQUENT.ACCTS.IN.LAST.SIX.MONTHS</th>\n",
              "      <th>AVERAGE.ACCT.AGE</th>\n",
              "      <th>CREDIT.HISTORY.LENGTH</th>\n",
              "      <th>NO.OF_INQUIRIES</th>\n",
              "      <th>loan_default</th>\n",
              "    </tr>\n",
              "  </thead>\n",
              "  <tbody>\n",
              "    <tr>\n",
              "      <th>0</th>\n",
              "      <td>420825</td>\n",
              "      <td>50578</td>\n",
              "      <td>58400</td>\n",
              "      <td>89.55</td>\n",
              "      <td>67</td>\n",
              "      <td>22807</td>\n",
              "      <td>45</td>\n",
              "      <td>1441</td>\n",
              "      <td>01-01-84</td>\n",
              "      <td>Salaried</td>\n",
              "      <td>03-08-18</td>\n",
              "      <td>6</td>\n",
              "      <td>1998</td>\n",
              "      <td>1</td>\n",
              "      <td>1</td>\n",
              "      <td>0</td>\n",
              "      <td>0</td>\n",
              "      <td>0</td>\n",
              "      <td>0</td>\n",
              "      <td>0</td>\n",
              "      <td>No Bureau History Available</td>\n",
              "      <td>0</td>\n",
              "      <td>0</td>\n",
              "      <td>0</td>\n",
              "      <td>0</td>\n",
              "      <td>0</td>\n",
              "      <td>0</td>\n",
              "      <td>0</td>\n",
              "      <td>0</td>\n",
              "      <td>0</td>\n",
              "      <td>0</td>\n",
              "      <td>0</td>\n",
              "      <td>0</td>\n",
              "      <td>0</td>\n",
              "      <td>0</td>\n",
              "      <td>0</td>\n",
              "      <td>0</td>\n",
              "      <td>0yrs 0mon</td>\n",
              "      <td>0yrs 0mon</td>\n",
              "      <td>0.0</td>\n",
              "      <td>0.0</td>\n",
              "    </tr>\n",
              "    <tr>\n",
              "      <th>1</th>\n",
              "      <td>537409</td>\n",
              "      <td>47145</td>\n",
              "      <td>65550</td>\n",
              "      <td>73.23</td>\n",
              "      <td>67</td>\n",
              "      <td>22807</td>\n",
              "      <td>45</td>\n",
              "      <td>1502</td>\n",
              "      <td>31-07-85</td>\n",
              "      <td>Self employed</td>\n",
              "      <td>26-09-18</td>\n",
              "      <td>6</td>\n",
              "      <td>1998</td>\n",
              "      <td>1</td>\n",
              "      <td>1</td>\n",
              "      <td>0</td>\n",
              "      <td>0</td>\n",
              "      <td>0</td>\n",
              "      <td>0</td>\n",
              "      <td>598</td>\n",
              "      <td>I-Medium Risk</td>\n",
              "      <td>1</td>\n",
              "      <td>1</td>\n",
              "      <td>1</td>\n",
              "      <td>27600</td>\n",
              "      <td>50200</td>\n",
              "      <td>50200</td>\n",
              "      <td>0</td>\n",
              "      <td>0</td>\n",
              "      <td>0</td>\n",
              "      <td>0</td>\n",
              "      <td>0</td>\n",
              "      <td>0</td>\n",
              "      <td>1991</td>\n",
              "      <td>0</td>\n",
              "      <td>0</td>\n",
              "      <td>1</td>\n",
              "      <td>1yrs 11mon</td>\n",
              "      <td>1yrs 11mon</td>\n",
              "      <td>0.0</td>\n",
              "      <td>1.0</td>\n",
              "    </tr>\n",
              "    <tr>\n",
              "      <th>2</th>\n",
              "      <td>417566</td>\n",
              "      <td>53278</td>\n",
              "      <td>61360</td>\n",
              "      <td>89.63</td>\n",
              "      <td>67</td>\n",
              "      <td>22807</td>\n",
              "      <td>45</td>\n",
              "      <td>1497</td>\n",
              "      <td>24-08-85</td>\n",
              "      <td>Self employed</td>\n",
              "      <td>01-08-18</td>\n",
              "      <td>6</td>\n",
              "      <td>1998</td>\n",
              "      <td>1</td>\n",
              "      <td>1</td>\n",
              "      <td>0</td>\n",
              "      <td>0</td>\n",
              "      <td>0</td>\n",
              "      <td>0</td>\n",
              "      <td>0</td>\n",
              "      <td>No Bureau History Available</td>\n",
              "      <td>0</td>\n",
              "      <td>0</td>\n",
              "      <td>0</td>\n",
              "      <td>0</td>\n",
              "      <td>0</td>\n",
              "      <td>0</td>\n",
              "      <td>0</td>\n",
              "      <td>0</td>\n",
              "      <td>0</td>\n",
              "      <td>0</td>\n",
              "      <td>0</td>\n",
              "      <td>0</td>\n",
              "      <td>0</td>\n",
              "      <td>0</td>\n",
              "      <td>0</td>\n",
              "      <td>0</td>\n",
              "      <td>0yrs 0mon</td>\n",
              "      <td>0yrs 0mon</td>\n",
              "      <td>0.0</td>\n",
              "      <td>0.0</td>\n",
              "    </tr>\n",
              "    <tr>\n",
              "      <th>3</th>\n",
              "      <td>624493</td>\n",
              "      <td>57513</td>\n",
              "      <td>66113</td>\n",
              "      <td>88.48</td>\n",
              "      <td>67</td>\n",
              "      <td>22807</td>\n",
              "      <td>45</td>\n",
              "      <td>1501</td>\n",
              "      <td>30-12-93</td>\n",
              "      <td>Self employed</td>\n",
              "      <td>26-10-18</td>\n",
              "      <td>6</td>\n",
              "      <td>1998</td>\n",
              "      <td>1</td>\n",
              "      <td>1</td>\n",
              "      <td>0</td>\n",
              "      <td>0</td>\n",
              "      <td>0</td>\n",
              "      <td>0</td>\n",
              "      <td>305</td>\n",
              "      <td>L-Very High Risk</td>\n",
              "      <td>3</td>\n",
              "      <td>0</td>\n",
              "      <td>0</td>\n",
              "      <td>0</td>\n",
              "      <td>0</td>\n",
              "      <td>0</td>\n",
              "      <td>0</td>\n",
              "      <td>0</td>\n",
              "      <td>0</td>\n",
              "      <td>0</td>\n",
              "      <td>0</td>\n",
              "      <td>0</td>\n",
              "      <td>31</td>\n",
              "      <td>0</td>\n",
              "      <td>0</td>\n",
              "      <td>0</td>\n",
              "      <td>0yrs 8mon</td>\n",
              "      <td>1yrs 3mon</td>\n",
              "      <td>1.0</td>\n",
              "      <td>1.0</td>\n",
              "    </tr>\n",
              "    <tr>\n",
              "      <th>4</th>\n",
              "      <td>539055</td>\n",
              "      <td>52378</td>\n",
              "      <td>60300</td>\n",
              "      <td>88.39</td>\n",
              "      <td>67</td>\n",
              "      <td>22807</td>\n",
              "      <td>45</td>\n",
              "      <td>1495</td>\n",
              "      <td>09-12-77</td>\n",
              "      <td>Self employed</td>\n",
              "      <td>26-09-18</td>\n",
              "      <td>6</td>\n",
              "      <td>1998</td>\n",
              "      <td>1</td>\n",
              "      <td>1</td>\n",
              "      <td>0</td>\n",
              "      <td>0</td>\n",
              "      <td>0</td>\n",
              "      <td>0</td>\n",
              "      <td>0</td>\n",
              "      <td>No Bureau History Available</td>\n",
              "      <td>0</td>\n",
              "      <td>0</td>\n",
              "      <td>0</td>\n",
              "      <td>0</td>\n",
              "      <td>0</td>\n",
              "      <td>0</td>\n",
              "      <td>0</td>\n",
              "      <td>0</td>\n",
              "      <td>0</td>\n",
              "      <td>0</td>\n",
              "      <td>0</td>\n",
              "      <td>0</td>\n",
              "      <td>0</td>\n",
              "      <td>0</td>\n",
              "      <td>0</td>\n",
              "      <td>0</td>\n",
              "      <td>0yrs 0mon</td>\n",
              "      <td>0yrs 0mon</td>\n",
              "      <td>1.0</td>\n",
              "      <td>1.0</td>\n",
              "    </tr>\n",
              "  </tbody>\n",
              "</table>\n",
              "</div>"
            ],
            "text/plain": [
              "   UniqueID  disbursed_amount  asset_cost    ltv  branch_id  supplier_id  \\\n",
              "0    420825             50578       58400  89.55         67        22807   \n",
              "1    537409             47145       65550  73.23         67        22807   \n",
              "2    417566             53278       61360  89.63         67        22807   \n",
              "3    624493             57513       66113  88.48         67        22807   \n",
              "4    539055             52378       60300  88.39         67        22807   \n",
              "\n",
              "   manufacturer_id  Current_pincode_ID Date.of.Birth Employment.Type  \\\n",
              "0               45                1441      01-01-84        Salaried   \n",
              "1               45                1502      31-07-85   Self employed   \n",
              "2               45                1497      24-08-85   Self employed   \n",
              "3               45                1501      30-12-93   Self employed   \n",
              "4               45                1495      09-12-77   Self employed   \n",
              "\n",
              "  DisbursalDate  State_ID  Employee_code_ID  MobileNo_Avl_Flag  Aadhar_flag  \\\n",
              "0      03-08-18         6              1998                  1            1   \n",
              "1      26-09-18         6              1998                  1            1   \n",
              "2      01-08-18         6              1998                  1            1   \n",
              "3      26-10-18         6              1998                  1            1   \n",
              "4      26-09-18         6              1998                  1            1   \n",
              "\n",
              "   PAN_flag  VoterID_flag  Driving_flag  Passport_flag  PERFORM_CNS.SCORE  \\\n",
              "0         0             0             0              0                  0   \n",
              "1         0             0             0              0                598   \n",
              "2         0             0             0              0                  0   \n",
              "3         0             0             0              0                305   \n",
              "4         0             0             0              0                  0   \n",
              "\n",
              "  PERFORM_CNS.SCORE.DESCRIPTION  PRI.NO.OF.ACCTS  PRI.ACTIVE.ACCTS  \\\n",
              "0   No Bureau History Available                0                 0   \n",
              "1                 I-Medium Risk                1                 1   \n",
              "2   No Bureau History Available                0                 0   \n",
              "3              L-Very High Risk                3                 0   \n",
              "4   No Bureau History Available                0                 0   \n",
              "\n",
              "   PRI.OVERDUE.ACCTS  PRI.CURRENT.BALANCE  PRI.SANCTIONED.AMOUNT  \\\n",
              "0                  0                    0                      0   \n",
              "1                  1                27600                  50200   \n",
              "2                  0                    0                      0   \n",
              "3                  0                    0                      0   \n",
              "4                  0                    0                      0   \n",
              "\n",
              "   PRI.DISBURSED.AMOUNT  SEC.NO.OF.ACCTS  SEC.ACTIVE.ACCTS  SEC.OVERDUE.ACCTS  \\\n",
              "0                     0                0                 0                  0   \n",
              "1                 50200                0                 0                  0   \n",
              "2                     0                0                 0                  0   \n",
              "3                     0                0                 0                  0   \n",
              "4                     0                0                 0                  0   \n",
              "\n",
              "   SEC.CURRENT.BALANCE  SEC.SANCTIONED.AMOUNT  SEC.DISBURSED.AMOUNT  \\\n",
              "0                    0                      0                     0   \n",
              "1                    0                      0                     0   \n",
              "2                    0                      0                     0   \n",
              "3                    0                      0                     0   \n",
              "4                    0                      0                     0   \n",
              "\n",
              "   PRIMARY.INSTAL.AMT  SEC.INSTAL.AMT  NEW.ACCTS.IN.LAST.SIX.MONTHS  \\\n",
              "0                   0               0                             0   \n",
              "1                1991               0                             0   \n",
              "2                   0               0                             0   \n",
              "3                  31               0                             0   \n",
              "4                   0               0                             0   \n",
              "\n",
              "   DELINQUENT.ACCTS.IN.LAST.SIX.MONTHS AVERAGE.ACCT.AGE CREDIT.HISTORY.LENGTH  \\\n",
              "0                                    0        0yrs 0mon             0yrs 0mon   \n",
              "1                                    1       1yrs 11mon            1yrs 11mon   \n",
              "2                                    0        0yrs 0mon             0yrs 0mon   \n",
              "3                                    0        0yrs 8mon             1yrs 3mon   \n",
              "4                                    0        0yrs 0mon             0yrs 0mon   \n",
              "\n",
              "   NO.OF_INQUIRIES  loan_default  \n",
              "0              0.0           0.0  \n",
              "1              0.0           1.0  \n",
              "2              0.0           0.0  \n",
              "3              1.0           1.0  \n",
              "4              1.0           1.0  "
            ]
          },
          "metadata": {
            "tags": []
          },
          "execution_count": 0
        }
      ]
    },
    {
      "cell_type": "code",
      "metadata": {
        "colab": {
          "background_save": true
        },
        "id": "labhDGN4i1Ew",
        "outputId": "afb6b783-ebdf-4b2a-cad4-58794c15269d"
      },
      "source": [
        "# There are two types of employment types :-\n",
        "#    1.Salaried\n",
        "#    2.Self Employed\n",
        "data['Employment.Type'].value_counts()"
      ],
      "execution_count": null,
      "outputs": [
        {
          "output_type": "execute_result",
          "data": {
            "text/plain": [
              "Self employed    19450\n",
              "Salaried         14326\n",
              "Name: Employment.Type, dtype: int64"
            ]
          },
          "metadata": {
            "tags": []
          },
          "execution_count": 0
        }
      ]
    },
    {
      "cell_type": "code",
      "metadata": {
        "colab": {
          "background_save": true
        },
        "id": "HFcJYakhi1Ex",
        "scrolled": true
      },
      "source": [
        "import numpy\n",
        "data['Employment.Type'].replace(numpy.nan,3,inplace=True)"
      ],
      "execution_count": null,
      "outputs": []
    },
    {
      "cell_type": "code",
      "metadata": {
        "colab": {
          "background_save": true
        },
        "id": "4IH1PTEii1Ex"
      },
      "source": [
        "data['Employment.Type'].replace('Salaried',0,inplace=True)\n",
        "data['Employment.Type'].replace('Self employed',1,inplace=True)"
      ],
      "execution_count": null,
      "outputs": []
    },
    {
      "cell_type": "code",
      "metadata": {
        "colab": {
          "background_save": true
        },
        "id": "dmFOGmwUQrX4",
        "outputId": "78ff4079-d335-4bbd-bc23-45388624c021"
      },
      "source": [
        "data.drop(117230,axis=0,inplace=True)"
      ],
      "execution_count": null,
      "outputs": [
        {
          "output_type": "error",
          "ename": "KeyError",
          "evalue": "ignored",
          "traceback": [
            "\u001b[0;31m---------------------------------------------------------------------------\u001b[0m",
            "\u001b[0;31mKeyError\u001b[0m                                  Traceback (most recent call last)",
            "\u001b[0;32m<ipython-input-9-1cb7806985ed>\u001b[0m in \u001b[0;36m<module>\u001b[0;34m()\u001b[0m\n\u001b[0;32m----> 1\u001b[0;31m \u001b[0mdata\u001b[0m\u001b[0;34m.\u001b[0m\u001b[0mdrop\u001b[0m\u001b[0;34m(\u001b[0m\u001b[0;36m117230\u001b[0m\u001b[0;34m,\u001b[0m\u001b[0maxis\u001b[0m\u001b[0;34m=\u001b[0m\u001b[0;36m0\u001b[0m\u001b[0;34m,\u001b[0m\u001b[0minplace\u001b[0m\u001b[0;34m=\u001b[0m\u001b[0;32mTrue\u001b[0m\u001b[0;34m)\u001b[0m\u001b[0;34m\u001b[0m\u001b[0;34m\u001b[0m\u001b[0m\n\u001b[0m",
            "\u001b[0;32m/usr/local/lib/python3.6/dist-packages/pandas/core/frame.py\u001b[0m in \u001b[0;36mdrop\u001b[0;34m(self, labels, axis, index, columns, level, inplace, errors)\u001b[0m\n\u001b[1;32m   4172\u001b[0m             \u001b[0mlevel\u001b[0m\u001b[0;34m=\u001b[0m\u001b[0mlevel\u001b[0m\u001b[0;34m,\u001b[0m\u001b[0;34m\u001b[0m\u001b[0;34m\u001b[0m\u001b[0m\n\u001b[1;32m   4173\u001b[0m             \u001b[0minplace\u001b[0m\u001b[0;34m=\u001b[0m\u001b[0minplace\u001b[0m\u001b[0;34m,\u001b[0m\u001b[0;34m\u001b[0m\u001b[0;34m\u001b[0m\u001b[0m\n\u001b[0;32m-> 4174\u001b[0;31m             \u001b[0merrors\u001b[0m\u001b[0;34m=\u001b[0m\u001b[0merrors\u001b[0m\u001b[0;34m,\u001b[0m\u001b[0;34m\u001b[0m\u001b[0;34m\u001b[0m\u001b[0m\n\u001b[0m\u001b[1;32m   4175\u001b[0m         )\n\u001b[1;32m   4176\u001b[0m \u001b[0;34m\u001b[0m\u001b[0m\n",
            "\u001b[0;32m/usr/local/lib/python3.6/dist-packages/pandas/core/generic.py\u001b[0m in \u001b[0;36mdrop\u001b[0;34m(self, labels, axis, index, columns, level, inplace, errors)\u001b[0m\n\u001b[1;32m   3887\u001b[0m         \u001b[0;32mfor\u001b[0m \u001b[0maxis\u001b[0m\u001b[0;34m,\u001b[0m \u001b[0mlabels\u001b[0m \u001b[0;32min\u001b[0m \u001b[0maxes\u001b[0m\u001b[0;34m.\u001b[0m\u001b[0mitems\u001b[0m\u001b[0;34m(\u001b[0m\u001b[0;34m)\u001b[0m\u001b[0;34m:\u001b[0m\u001b[0;34m\u001b[0m\u001b[0;34m\u001b[0m\u001b[0m\n\u001b[1;32m   3888\u001b[0m             \u001b[0;32mif\u001b[0m \u001b[0mlabels\u001b[0m \u001b[0;32mis\u001b[0m \u001b[0;32mnot\u001b[0m \u001b[0;32mNone\u001b[0m\u001b[0;34m:\u001b[0m\u001b[0;34m\u001b[0m\u001b[0;34m\u001b[0m\u001b[0m\n\u001b[0;32m-> 3889\u001b[0;31m                 \u001b[0mobj\u001b[0m \u001b[0;34m=\u001b[0m \u001b[0mobj\u001b[0m\u001b[0;34m.\u001b[0m\u001b[0m_drop_axis\u001b[0m\u001b[0;34m(\u001b[0m\u001b[0mlabels\u001b[0m\u001b[0;34m,\u001b[0m \u001b[0maxis\u001b[0m\u001b[0;34m,\u001b[0m \u001b[0mlevel\u001b[0m\u001b[0;34m=\u001b[0m\u001b[0mlevel\u001b[0m\u001b[0;34m,\u001b[0m \u001b[0merrors\u001b[0m\u001b[0;34m=\u001b[0m\u001b[0merrors\u001b[0m\u001b[0;34m)\u001b[0m\u001b[0;34m\u001b[0m\u001b[0;34m\u001b[0m\u001b[0m\n\u001b[0m\u001b[1;32m   3890\u001b[0m \u001b[0;34m\u001b[0m\u001b[0m\n\u001b[1;32m   3891\u001b[0m         \u001b[0;32mif\u001b[0m \u001b[0minplace\u001b[0m\u001b[0;34m:\u001b[0m\u001b[0;34m\u001b[0m\u001b[0;34m\u001b[0m\u001b[0m\n",
            "\u001b[0;32m/usr/local/lib/python3.6/dist-packages/pandas/core/generic.py\u001b[0m in \u001b[0;36m_drop_axis\u001b[0;34m(self, labels, axis, level, errors)\u001b[0m\n\u001b[1;32m   3921\u001b[0m                 \u001b[0mnew_axis\u001b[0m \u001b[0;34m=\u001b[0m \u001b[0maxis\u001b[0m\u001b[0;34m.\u001b[0m\u001b[0mdrop\u001b[0m\u001b[0;34m(\u001b[0m\u001b[0mlabels\u001b[0m\u001b[0;34m,\u001b[0m \u001b[0mlevel\u001b[0m\u001b[0;34m=\u001b[0m\u001b[0mlevel\u001b[0m\u001b[0;34m,\u001b[0m \u001b[0merrors\u001b[0m\u001b[0;34m=\u001b[0m\u001b[0merrors\u001b[0m\u001b[0;34m)\u001b[0m\u001b[0;34m\u001b[0m\u001b[0;34m\u001b[0m\u001b[0m\n\u001b[1;32m   3922\u001b[0m             \u001b[0;32melse\u001b[0m\u001b[0;34m:\u001b[0m\u001b[0;34m\u001b[0m\u001b[0;34m\u001b[0m\u001b[0m\n\u001b[0;32m-> 3923\u001b[0;31m                 \u001b[0mnew_axis\u001b[0m \u001b[0;34m=\u001b[0m \u001b[0maxis\u001b[0m\u001b[0;34m.\u001b[0m\u001b[0mdrop\u001b[0m\u001b[0;34m(\u001b[0m\u001b[0mlabels\u001b[0m\u001b[0;34m,\u001b[0m \u001b[0merrors\u001b[0m\u001b[0;34m=\u001b[0m\u001b[0merrors\u001b[0m\u001b[0;34m)\u001b[0m\u001b[0;34m\u001b[0m\u001b[0;34m\u001b[0m\u001b[0m\n\u001b[0m\u001b[1;32m   3924\u001b[0m             \u001b[0mresult\u001b[0m \u001b[0;34m=\u001b[0m \u001b[0mself\u001b[0m\u001b[0;34m.\u001b[0m\u001b[0mreindex\u001b[0m\u001b[0;34m(\u001b[0m\u001b[0;34m**\u001b[0m\u001b[0;34m{\u001b[0m\u001b[0maxis_name\u001b[0m\u001b[0;34m:\u001b[0m \u001b[0mnew_axis\u001b[0m\u001b[0;34m}\u001b[0m\u001b[0;34m)\u001b[0m\u001b[0;34m\u001b[0m\u001b[0;34m\u001b[0m\u001b[0m\n\u001b[1;32m   3925\u001b[0m \u001b[0;34m\u001b[0m\u001b[0m\n",
            "\u001b[0;32m/usr/local/lib/python3.6/dist-packages/pandas/core/indexes/base.py\u001b[0m in \u001b[0;36mdrop\u001b[0;34m(self, labels, errors)\u001b[0m\n\u001b[1;32m   5285\u001b[0m         \u001b[0;32mif\u001b[0m \u001b[0mmask\u001b[0m\u001b[0;34m.\u001b[0m\u001b[0many\u001b[0m\u001b[0;34m(\u001b[0m\u001b[0;34m)\u001b[0m\u001b[0;34m:\u001b[0m\u001b[0;34m\u001b[0m\u001b[0;34m\u001b[0m\u001b[0m\n\u001b[1;32m   5286\u001b[0m             \u001b[0;32mif\u001b[0m \u001b[0merrors\u001b[0m \u001b[0;34m!=\u001b[0m \u001b[0;34m\"ignore\"\u001b[0m\u001b[0;34m:\u001b[0m\u001b[0;34m\u001b[0m\u001b[0;34m\u001b[0m\u001b[0m\n\u001b[0;32m-> 5287\u001b[0;31m                 \u001b[0;32mraise\u001b[0m \u001b[0mKeyError\u001b[0m\u001b[0;34m(\u001b[0m\u001b[0;34mf\"{labels[mask]} not found in axis\"\u001b[0m\u001b[0;34m)\u001b[0m\u001b[0;34m\u001b[0m\u001b[0;34m\u001b[0m\u001b[0m\n\u001b[0m\u001b[1;32m   5288\u001b[0m             \u001b[0mindexer\u001b[0m \u001b[0;34m=\u001b[0m \u001b[0mindexer\u001b[0m\u001b[0;34m[\u001b[0m\u001b[0;34m~\u001b[0m\u001b[0mmask\u001b[0m\u001b[0;34m]\u001b[0m\u001b[0;34m\u001b[0m\u001b[0;34m\u001b[0m\u001b[0m\n\u001b[1;32m   5289\u001b[0m         \u001b[0;32mreturn\u001b[0m \u001b[0mself\u001b[0m\u001b[0;34m.\u001b[0m\u001b[0mdelete\u001b[0m\u001b[0;34m(\u001b[0m\u001b[0mindexer\u001b[0m\u001b[0;34m)\u001b[0m\u001b[0;34m\u001b[0m\u001b[0;34m\u001b[0m\u001b[0m\n",
            "\u001b[0;31mKeyError\u001b[0m: '[117230] not found in axis'"
          ]
        }
      ]
    },
    {
      "cell_type": "code",
      "metadata": {
        "colab": {
          "background_save": true
        },
        "id": "C_b098BCi1Ex"
      },
      "source": [
        "def m(x):\n",
        "    s=x.split()\n",
        "    if(len(s[0])==4):\n",
        "        y=int(s[0][0])\n",
        "    else:\n",
        "        y=int(s[0][0:2])\n",
        "    if(len(s[1])==4):\n",
        "        m=int(s[1][0])\n",
        "    else:\n",
        "        m=int(s[1][0:2])\n",
        "    return str(m+(y*12))"
      ],
      "execution_count": null,
      "outputs": []
    },
    {
      "cell_type": "code",
      "metadata": {
        "colab": {
          "background_save": true
        },
        "id": "OFksXWsZi1Ey"
      },
      "source": [
        "data['CREDIT.HISTORY.LENGTH']=data['CREDIT.HISTORY.LENGTH'].astype(str)\n",
        "data['CREDIT.HISTORY.LENGTH']=data['CREDIT.HISTORY.LENGTH'].apply(m)\n",
        "data['AVERAGE.ACCT.AGE']=data['AVERAGE.ACCT.AGE'].astype(str)\n",
        "data['AVERAGE.ACCT.AGE']=data['AVERAGE.ACCT.AGE'].apply(m)"
      ],
      "execution_count": null,
      "outputs": []
    },
    {
      "cell_type": "code",
      "metadata": {
        "colab": {
          "background_save": true
        },
        "id": "pMP1DISFi1Ey"
      },
      "source": [
        "data['NEW.ACCTS.IN.LAST.SIX.MONTHS'].value_counts()"
      ],
      "execution_count": null,
      "outputs": []
    },
    {
      "cell_type": "code",
      "metadata": {
        "colab": {
          "background_save": true
        },
        "id": "oLyKnyQZi1Ey"
      },
      "source": [
        "data.drop('UniqueID',axis=1,inplace=True)"
      ],
      "execution_count": null,
      "outputs": []
    },
    {
      "cell_type": "code",
      "metadata": {
        "colab": {
          "background_save": true
        },
        "id": "4LlN84fJi1Ez"
      },
      "source": [
        "data.head()"
      ],
      "execution_count": null,
      "outputs": []
    },
    {
      "cell_type": "code",
      "metadata": {
        "colab": {
          "background_save": true
        },
        "id": "wivVDvOzi1Ez"
      },
      "source": [
        "data.drop('Date.of.Birth',axis=1,inplace=True)"
      ],
      "execution_count": null,
      "outputs": []
    },
    {
      "cell_type": "code",
      "metadata": {
        "colab": {
          "background_save": true
        },
        "id": "vvmRO03gi1Ez"
      },
      "source": [
        "#data.drop('DisbursalDate',axis=1,inplace=True)"
      ],
      "execution_count": null,
      "outputs": []
    },
    {
      "cell_type": "code",
      "metadata": {
        "colab": {
          "background_save": true
        },
        "id": "nXb2gXUOi1Ez"
      },
      "source": [
        "data.drop('Current_pincode_ID',axis=1,inplace=True)"
      ],
      "execution_count": null,
      "outputs": []
    },
    {
      "cell_type": "code",
      "metadata": {
        "colab": {
          "background_save": true
        },
        "id": "kr3IpoAsi1E0"
      },
      "source": [
        "data.drop(['MobileNo_Avl_Flag','Aadhar_flag','PAN_flag','VoterID_flag','Driving_flag','Passport_flag'],axis=1,inplace=True)"
      ],
      "execution_count": null,
      "outputs": []
    },
    {
      "cell_type": "code",
      "metadata": {
        "colab": {
          "background_save": true
        },
        "id": "UvLW8vyoi1E0"
      },
      "source": [
        "data.head()"
      ],
      "execution_count": null,
      "outputs": []
    },
    {
      "cell_type": "code",
      "metadata": {
        "colab": {
          "background_save": true
        },
        "id": "Dzls13Mmi1E0"
      },
      "source": [
        "data.drop('DisbursalDate',axis=1,inplace=True)"
      ],
      "execution_count": null,
      "outputs": []
    },
    {
      "cell_type": "code",
      "metadata": {
        "colab": {
          "background_save": true
        },
        "id": "lSV5BbkVi1E0"
      },
      "source": [
        "from sklearn.preprocessing import LabelEncoder\n",
        "o=LabelEncoder()\n",
        "data['PERFORM_CNS.SCORE.DESCRIPTION']=data['PERFORM_CNS.SCORE.DESCRIPTION'].astype('str')\n",
        "o.fit(data['PERFORM_CNS.SCORE.DESCRIPTION'])\n",
        "data['PERFORM_CNS.SCORE.DESCRIPTION']=o.transform(data['PERFORM_CNS.SCORE.DESCRIPTION'])"
      ],
      "execution_count": null,
      "outputs": []
    },
    {
      "cell_type": "code",
      "metadata": {
        "colab": {
          "background_save": true
        },
        "id": "VYxhL0vSi1E1"
      },
      "source": [
        "data.head()"
      ],
      "execution_count": null,
      "outputs": []
    },
    {
      "cell_type": "code",
      "metadata": {
        "colab": {
          "background_save": true
        },
        "id": "ec9tJBTni1E1"
      },
      "source": [
        "data.drop('Employee_code_ID',axis=1,inplace=True)"
      ],
      "execution_count": null,
      "outputs": []
    },
    {
      "cell_type": "code",
      "metadata": {
        "colab": {
          "background_save": true
        },
        "id": "O22vOwwsi1E1"
      },
      "source": [
        "data.drop('supplier_id',axis=1,inplace=True)"
      ],
      "execution_count": null,
      "outputs": []
    },
    {
      "cell_type": "code",
      "metadata": {
        "colab": {
          "background_save": true
        },
        "id": "-t_2BWxAi1E1"
      },
      "source": [
        "data.drop('manufacturer_id',axis=1,inplace=True)"
      ],
      "execution_count": null,
      "outputs": []
    },
    {
      "cell_type": "code",
      "metadata": {
        "colab": {
          "background_save": true
        },
        "id": "jPmlGrcli1E1"
      },
      "source": [
        ""
      ],
      "execution_count": null,
      "outputs": []
    },
    {
      "cell_type": "code",
      "metadata": {
        "colab": {
          "background_save": true
        },
        "id": "7qou9kowi1E2"
      },
      "source": [
        "?o"
      ],
      "execution_count": null,
      "outputs": []
    },
    {
      "cell_type": "code",
      "metadata": {
        "colab": {
          "background_save": true
        },
        "id": "DLaGPw6si1E2"
      },
      "source": [
        "data['loan_default'].value_counts()"
      ],
      "execution_count": null,
      "outputs": []
    },
    {
      "cell_type": "code",
      "metadata": {
        "colab": {
          "background_save": true
        },
        "id": "m5vux8Y6i1E2"
      },
      "source": [
        "data['PERFORM_CNS.SCORE.DESCRIPTION'].value_counts()"
      ],
      "execution_count": null,
      "outputs": []
    },
    {
      "cell_type": "code",
      "metadata": {
        "colab": {
          "background_save": true
        },
        "id": "OZ01NKuyi1E2"
      },
      "source": [
        "from imblearn.over_sampling import SMOTE"
      ],
      "execution_count": null,
      "outputs": []
    },
    {
      "cell_type": "code",
      "metadata": {
        "colab": {
          "background_save": true
        },
        "id": "9HsAsky_i1E3"
      },
      "source": [
        "target=data['loan_default']\n",
        "data.drop('loan_default',axis=1,inplace=True)"
      ],
      "execution_count": null,
      "outputs": []
    },
    {
      "cell_type": "code",
      "metadata": {
        "colab": {
          "background_save": true
        },
        "id": "qZiZ7oGdi1E3"
      },
      "source": [
        "data.shape"
      ],
      "execution_count": null,
      "outputs": []
    },
    {
      "cell_type": "code",
      "metadata": {
        "colab": {
          "background_save": true
        },
        "id": "7MVCNemWi1E3"
      },
      "source": [
        "import seaborn as sns\n",
        "sns.distplot(data['disbursed_amount'])"
      ],
      "execution_count": null,
      "outputs": []
    },
    {
      "cell_type": "code",
      "metadata": {
        "colab": {
          "background_save": true
        },
        "id": "JFhX-T6Ui1E3"
      },
      "source": [
        "data.isnull().sum()"
      ],
      "execution_count": null,
      "outputs": []
    },
    {
      "cell_type": "code",
      "metadata": {
        "colab": {
          "background_save": true
        },
        "id": "hehR9fvhi1E4"
      },
      "source": [
        "print(\"hey12345!\")\n",
        "print()"
      ],
      "execution_count": null,
      "outputs": []
    },
    {
      "cell_type": "code",
      "metadata": {
        "colab": {
          "background_save": true
        },
        "id": "doR5sd0Mi1E4",
        "scrolled": true
      },
      "source": [
        "data.head()"
      ],
      "execution_count": null,
      "outputs": []
    },
    {
      "cell_type": "code",
      "metadata": {
        "colab": {
          "background_save": true
        },
        "id": "2iqLuzf1i1E4"
      },
      "source": [
        "#data['inplace_hey hey']\n",
        "col=data.columns"
      ],
      "execution_count": null,
      "outputs": []
    },
    {
      "cell_type": "code",
      "metadata": {
        "colab": {
          "background_save": true
        },
        "id": "TVaGBrXtzhuX"
      },
      "source": [
        "data.isnull().sum()"
      ],
      "execution_count": null,
      "outputs": []
    },
    {
      "cell_type": "code",
      "metadata": {
        "colab": {
          "background_save": true
        },
        "id": "oHvZA0Sdi1E4"
      },
      "source": [
        "from imblearn.over_sampling import SMOTE\n",
        "sm = SMOTE(random_state = 2)\n",
        "y=target.values\n",
        "X=data[:].values\n",
        "y=y.reshape(-1, 1)\n",
        "print(X.shape,y.shape)\n",
        "X,y=sm.fit_sample(X, y.ravel())\n",
        "print(X.shape,y.shape)"
      ],
      "execution_count": null,
      "outputs": []
    },
    {
      "cell_type": "code",
      "metadata": {
        "colab": {
          "background_save": true
        },
        "id": "g4j5gfKTi1E5"
      },
      "source": [
        "from sklearn.preprocessing import StandardScaler\n",
        "from sklearn.decomposition import PCA\n",
        "from sklearn.model_selection import train_test_split\n",
        "from sklearn.metrics import f1_score, classification_report, plot_confusion_matrix"
      ],
      "execution_count": null,
      "outputs": []
    },
    {
      "cell_type": "code",
      "metadata": {
        "colab": {
          "background_save": true
        },
        "id": "4uABecQHi1E5"
      },
      "source": [
        ""
      ],
      "execution_count": null,
      "outputs": []
    },
    {
      "cell_type": "code",
      "metadata": {
        "colab": {
          "background_save": true
        },
        "id": "bVlsbIXDwbyZ"
      },
      "source": [
        ""
      ],
      "execution_count": null,
      "outputs": []
    },
    {
      "cell_type": "code",
      "metadata": {
        "colab": {
          "background_save": true
        },
        "id": "elZmGZbBi1E5"
      },
      "source": [
        "len(col)"
      ],
      "execution_count": null,
      "outputs": []
    },
    {
      "cell_type": "code",
      "metadata": {
        "colab": {
          "background_save": true
        },
        "id": "nerNDEzBi1E5"
      },
      "source": [
        ""
      ],
      "execution_count": null,
      "outputs": []
    },
    {
      "cell_type": "code",
      "metadata": {
        "colab": {
          "background_save": true
        },
        "id": "EH_XUSYwi1E5"
      },
      "source": [
        "scale=StandardScaler()\n",
        "x=scale.fit_transform(X)"
      ],
      "execution_count": null,
      "outputs": []
    },
    {
      "cell_type": "code",
      "metadata": {
        "colab": {
          "background_save": true
        },
        "id": "nyVo_Zphi1E6"
      },
      "source": [
        "pca=PCA(n_components=26)"
      ],
      "execution_count": null,
      "outputs": []
    },
    {
      "cell_type": "code",
      "metadata": {
        "colab": {
          "background_save": true
        },
        "id": "VbZ_-oMCi1E6"
      },
      "source": [
        "pca.fit(x)"
      ],
      "execution_count": null,
      "outputs": []
    },
    {
      "cell_type": "code",
      "metadata": {
        "colab": {
          "background_save": true
        },
        "id": "tbN6xblVi1E6"
      },
      "source": [
        "x1=pca.transform(x)"
      ],
      "execution_count": null,
      "outputs": []
    },
    {
      "cell_type": "code",
      "metadata": {
        "colab": {
          "background_save": true
        },
        "id": "v4z0L0-xi1E6"
      },
      "source": [
        "cum_exp_var = []\n",
        "var_exp = 0\n",
        "for i in pca.explained_variance_ratio_:\n",
        "    var_exp += i\n",
        "    cum_exp_var.append(var_exp)"
      ],
      "execution_count": null,
      "outputs": []
    },
    {
      "cell_type": "code",
      "metadata": {
        "colab": {
          "background_save": true
        },
        "id": "gQtfRUGhi1E6"
      },
      "source": [
        "cum_exp_var"
      ],
      "execution_count": null,
      "outputs": []
    },
    {
      "cell_type": "code",
      "metadata": {
        "colab": {
          "background_save": true
        },
        "id": "cvRZw2D4i1E7"
      },
      "source": [
        "import matplotlib.pyplot as plt\n",
        "fig, ax = plt.subplots(figsize=(8,6))\n",
        "ax.bar(range(1,26+1), cum_exp_var)\n",
        "ax.set_xlabel('# Principal Components')\n",
        "ax.set_ylabel('% Cumulative Variance Explained');"
      ],
      "execution_count": null,
      "outputs": []
    },
    {
      "cell_type": "code",
      "metadata": {
        "colab": {
          "background_save": true
        },
        "id": "88HYJQraR-p_"
      },
      "source": [
        "d=pd.DataFrame(x1)\r\n",
        "d['ans']=y"
      ],
      "execution_count": null,
      "outputs": []
    },
    {
      "cell_type": "code",
      "metadata": {
        "colab": {
          "background_save": true
        },
        "id": "vMNRi8Zni1E7"
      },
      "source": [
        "!pip install pycaret"
      ],
      "execution_count": null,
      "outputs": []
    },
    {
      "cell_type": "code",
      "metadata": {
        "colab": {
          "background_save": true
        },
        "id": "3-vjAHC3wDgo"
      },
      "source": [
        "import pycaret"
      ],
      "execution_count": null,
      "outputs": []
    },
    {
      "cell_type": "code",
      "metadata": {
        "colab": {
          "background_save": true
        },
        "id": "W1JCduXSso6z"
      },
      "source": [
        "from pycaret.classification import *"
      ],
      "execution_count": null,
      "outputs": []
    },
    {
      "cell_type": "code",
      "metadata": {
        "colab": {
          "background_save": true
        },
        "id": "T9fH6XGEwQY5"
      },
      "source": [
        "\r\n",
        "model_setup = setup(data=d, target='ans', session_id=123)"
      ],
      "execution_count": null,
      "outputs": []
    },
    {
      "cell_type": "code",
      "metadata": {
        "colab": {
          "background_save": true
        },
        "id": "tJslnwP6wT7Q",
        "outputId": "af0fa9bc-21ef-4df2-fc0d-3a6c987ca418"
      },
      "source": [
        "best_model = compare_models()"
      ],
      "execution_count": null,
      "outputs": [
        {
          "output_type": "display_data",
          "data": {
            "text/html": [
              "<div>\n",
              "<style scoped>\n",
              "    .dataframe tbody tr th:only-of-type {\n",
              "        vertical-align: middle;\n",
              "    }\n",
              "\n",
              "    .dataframe tbody tr th {\n",
              "        vertical-align: top;\n",
              "    }\n",
              "\n",
              "    .dataframe thead th {\n",
              "        text-align: right;\n",
              "    }\n",
              "</style>\n",
              "<table border=\"1\" class=\"dataframe\">\n",
              "  <thead>\n",
              "    <tr style=\"text-align: right;\">\n",
              "      <th></th>\n",
              "      <th>Model</th>\n",
              "      <th>Accuracy</th>\n",
              "      <th>AUC</th>\n",
              "      <th>Recall</th>\n",
              "      <th>Prec.</th>\n",
              "      <th>F1</th>\n",
              "      <th>Kappa</th>\n",
              "      <th>MCC</th>\n",
              "      <th>TT (Sec)</th>\n",
              "    </tr>\n",
              "  </thead>\n",
              "  <tbody>\n",
              "    <tr>\n",
              "      <th>et</th>\n",
              "      <td>Extra Trees Classifier</td>\n",
              "      <td>0.8140</td>\n",
              "      <td>0.8801</td>\n",
              "      <td>0.8156</td>\n",
              "      <td>0.8134</td>\n",
              "      <td>0.8145</td>\n",
              "      <td>0.6281</td>\n",
              "      <td>0.6282</td>\n",
              "      <td>11.906</td>\n",
              "    </tr>\n",
              "    <tr>\n",
              "      <th>rf</th>\n",
              "      <td>Random Forest Classifier</td>\n",
              "      <td>0.7958</td>\n",
              "      <td>0.8681</td>\n",
              "      <td>0.7941</td>\n",
              "      <td>0.7971</td>\n",
              "      <td>0.7956</td>\n",
              "      <td>0.5916</td>\n",
              "      <td>0.5916</td>\n",
              "      <td>32.682</td>\n",
              "    </tr>\n",
              "    <tr>\n",
              "      <th>catboost</th>\n",
              "      <td>CatBoost Classifier</td>\n",
              "      <td>0.7359</td>\n",
              "      <td>0.8172</td>\n",
              "      <td>0.7380</td>\n",
              "      <td>0.7354</td>\n",
              "      <td>0.7367</td>\n",
              "      <td>0.4719</td>\n",
              "      <td>0.4719</td>\n",
              "      <td>37.443</td>\n",
              "    </tr>\n",
              "    <tr>\n",
              "      <th>xgboost</th>\n",
              "      <td>Extreme Gradient Boosting</td>\n",
              "      <td>0.7346</td>\n",
              "      <td>0.8157</td>\n",
              "      <td>0.7463</td>\n",
              "      <td>0.7296</td>\n",
              "      <td>0.7378</td>\n",
              "      <td>0.4692</td>\n",
              "      <td>0.4694</td>\n",
              "      <td>48.528</td>\n",
              "    </tr>\n",
              "    <tr>\n",
              "      <th>knn</th>\n",
              "      <td>K Neighbors Classifier</td>\n",
              "      <td>0.7222</td>\n",
              "      <td>0.7951</td>\n",
              "      <td>0.7654</td>\n",
              "      <td>0.7049</td>\n",
              "      <td>0.7339</td>\n",
              "      <td>0.4443</td>\n",
              "      <td>0.4460</td>\n",
              "      <td>14.186</td>\n",
              "    </tr>\n",
              "    <tr>\n",
              "      <th>lightgbm</th>\n",
              "      <td>Light Gradient Boosting Machine</td>\n",
              "      <td>0.7070</td>\n",
              "      <td>0.7833</td>\n",
              "      <td>0.7046</td>\n",
              "      <td>0.7084</td>\n",
              "      <td>0.7065</td>\n",
              "      <td>0.4140</td>\n",
              "      <td>0.4140</td>\n",
              "      <td>1.885</td>\n",
              "    </tr>\n",
              "    <tr>\n",
              "      <th>dt</th>\n",
              "      <td>Decision Tree Classifier</td>\n",
              "      <td>0.6793</td>\n",
              "      <td>0.6797</td>\n",
              "      <td>0.6969</td>\n",
              "      <td>0.6738</td>\n",
              "      <td>0.6851</td>\n",
              "      <td>0.3587</td>\n",
              "      <td>0.3589</td>\n",
              "      <td>2.826</td>\n",
              "    </tr>\n",
              "    <tr>\n",
              "      <th>gbc</th>\n",
              "      <td>Gradient Boosting Classifier</td>\n",
              "      <td>0.6647</td>\n",
              "      <td>0.7268</td>\n",
              "      <td>0.7137</td>\n",
              "      <td>0.6504</td>\n",
              "      <td>0.6806</td>\n",
              "      <td>0.3294</td>\n",
              "      <td>0.3310</td>\n",
              "      <td>56.015</td>\n",
              "    </tr>\n",
              "    <tr>\n",
              "      <th>ada</th>\n",
              "      <td>Ada Boost Classifier</td>\n",
              "      <td>0.6411</td>\n",
              "      <td>0.6958</td>\n",
              "      <td>0.6766</td>\n",
              "      <td>0.6322</td>\n",
              "      <td>0.6536</td>\n",
              "      <td>0.2821</td>\n",
              "      <td>0.2828</td>\n",
              "      <td>10.825</td>\n",
              "    </tr>\n",
              "    <tr>\n",
              "      <th>lr</th>\n",
              "      <td>Logistic Regression</td>\n",
              "      <td>0.6079</td>\n",
              "      <td>0.6369</td>\n",
              "      <td>0.6624</td>\n",
              "      <td>0.5977</td>\n",
              "      <td>0.6284</td>\n",
              "      <td>0.2157</td>\n",
              "      <td>0.2170</td>\n",
              "      <td>1.381</td>\n",
              "    </tr>\n",
              "    <tr>\n",
              "      <th>ridge</th>\n",
              "      <td>Ridge Classifier</td>\n",
              "      <td>0.6067</td>\n",
              "      <td>0.0000</td>\n",
              "      <td>0.6655</td>\n",
              "      <td>0.5959</td>\n",
              "      <td>0.6288</td>\n",
              "      <td>0.2133</td>\n",
              "      <td>0.2148</td>\n",
              "      <td>0.077</td>\n",
              "    </tr>\n",
              "    <tr>\n",
              "      <th>lda</th>\n",
              "      <td>Linear Discriminant Analysis</td>\n",
              "      <td>0.6067</td>\n",
              "      <td>0.6358</td>\n",
              "      <td>0.6654</td>\n",
              "      <td>0.5959</td>\n",
              "      <td>0.6287</td>\n",
              "      <td>0.2133</td>\n",
              "      <td>0.2148</td>\n",
              "      <td>0.318</td>\n",
              "    </tr>\n",
              "    <tr>\n",
              "      <th>svm</th>\n",
              "      <td>SVM - Linear Kernel</td>\n",
              "      <td>0.5967</td>\n",
              "      <td>0.0000</td>\n",
              "      <td>0.6904</td>\n",
              "      <td>0.5822</td>\n",
              "      <td>0.6313</td>\n",
              "      <td>0.1933</td>\n",
              "      <td>0.1971</td>\n",
              "      <td>0.507</td>\n",
              "    </tr>\n",
              "    <tr>\n",
              "      <th>qda</th>\n",
              "      <td>Quadratic Discriminant Analysis</td>\n",
              "      <td>0.5222</td>\n",
              "      <td>0.6403</td>\n",
              "      <td>0.9580</td>\n",
              "      <td>0.5121</td>\n",
              "      <td>0.6675</td>\n",
              "      <td>0.0435</td>\n",
              "      <td>0.0887</td>\n",
              "      <td>0.147</td>\n",
              "    </tr>\n",
              "    <tr>\n",
              "      <th>nb</th>\n",
              "      <td>Naive Bayes</td>\n",
              "      <td>0.5189</td>\n",
              "      <td>0.6158</td>\n",
              "      <td>0.9329</td>\n",
              "      <td>0.5106</td>\n",
              "      <td>0.6600</td>\n",
              "      <td>0.0370</td>\n",
              "      <td>0.0654</td>\n",
              "      <td>0.083</td>\n",
              "    </tr>\n",
              "  </tbody>\n",
              "</table>\n",
              "</div>"
            ],
            "text/plain": [
              "                                    Model  Accuracy     AUC  Recall   Prec.  \\\n",
              "et                 Extra Trees Classifier    0.8140  0.8801  0.8156  0.8134   \n",
              "rf               Random Forest Classifier    0.7958  0.8681  0.7941  0.7971   \n",
              "catboost              CatBoost Classifier    0.7359  0.8172  0.7380  0.7354   \n",
              "xgboost         Extreme Gradient Boosting    0.7346  0.8157  0.7463  0.7296   \n",
              "knn                K Neighbors Classifier    0.7222  0.7951  0.7654  0.7049   \n",
              "lightgbm  Light Gradient Boosting Machine    0.7070  0.7833  0.7046  0.7084   \n",
              "dt               Decision Tree Classifier    0.6793  0.6797  0.6969  0.6738   \n",
              "gbc          Gradient Boosting Classifier    0.6647  0.7268  0.7137  0.6504   \n",
              "ada                  Ada Boost Classifier    0.6411  0.6958  0.6766  0.6322   \n",
              "lr                    Logistic Regression    0.6079  0.6369  0.6624  0.5977   \n",
              "ridge                    Ridge Classifier    0.6067  0.0000  0.6655  0.5959   \n",
              "lda          Linear Discriminant Analysis    0.6067  0.6358  0.6654  0.5959   \n",
              "svm                   SVM - Linear Kernel    0.5967  0.0000  0.6904  0.5822   \n",
              "qda       Quadratic Discriminant Analysis    0.5222  0.6403  0.9580  0.5121   \n",
              "nb                            Naive Bayes    0.5189  0.6158  0.9329  0.5106   \n",
              "\n",
              "              F1   Kappa     MCC  TT (Sec)  \n",
              "et        0.8145  0.6281  0.6282    11.906  \n",
              "rf        0.7956  0.5916  0.5916    32.682  \n",
              "catboost  0.7367  0.4719  0.4719    37.443  \n",
              "xgboost   0.7378  0.4692  0.4694    48.528  \n",
              "knn       0.7339  0.4443  0.4460    14.186  \n",
              "lightgbm  0.7065  0.4140  0.4140     1.885  \n",
              "dt        0.6851  0.3587  0.3589     2.826  \n",
              "gbc       0.6806  0.3294  0.3310    56.015  \n",
              "ada       0.6536  0.2821  0.2828    10.825  \n",
              "lr        0.6284  0.2157  0.2170     1.381  \n",
              "ridge     0.6288  0.2133  0.2148     0.077  \n",
              "lda       0.6287  0.2133  0.2148     0.318  \n",
              "svm       0.6313  0.1933  0.1971     0.507  \n",
              "qda       0.6675  0.0435  0.0887     0.147  \n",
              "nb        0.6600  0.0370  0.0654     0.083  "
            ]
          },
          "metadata": {
            "tags": []
          }
        }
      ]
    },
    {
      "cell_type": "code",
      "metadata": {
        "colab": {
          "background_save": true
        },
        "id": "9chJhXTF3-xJ",
        "outputId": "ea32b87b-b716-43b0-ed78-f646fc502149"
      },
      "source": [
        "#model=best_model()"
      ],
      "execution_count": null,
      "outputs": [
        {
          "output_type": "display_data",
          "data": {
            "text/html": [
              "<div>\n",
              "<style scoped>\n",
              "    .dataframe tbody tr th:only-of-type {\n",
              "        vertical-align: middle;\n",
              "    }\n",
              "\n",
              "    .dataframe tbody tr th {\n",
              "        vertical-align: top;\n",
              "    }\n",
              "\n",
              "    .dataframe thead th {\n",
              "        text-align: right;\n",
              "    }\n",
              "</style>\n",
              "<table border=\"1\" class=\"dataframe\">\n",
              "  <thead>\n",
              "    <tr style=\"text-align: right;\">\n",
              "      <th></th>\n",
              "      <th>Accuracy</th>\n",
              "      <th>AUC</th>\n",
              "      <th>Recall</th>\n",
              "      <th>Prec.</th>\n",
              "      <th>F1</th>\n",
              "      <th>Kappa</th>\n",
              "      <th>MCC</th>\n",
              "    </tr>\n",
              "  </thead>\n",
              "  <tbody>\n",
              "    <tr>\n",
              "      <th>0</th>\n",
              "      <td>0.8011</td>\n",
              "      <td>0.8734</td>\n",
              "      <td>0.7998</td>\n",
              "      <td>0.8022</td>\n",
              "      <td>0.8010</td>\n",
              "      <td>0.6022</td>\n",
              "      <td>0.6022</td>\n",
              "    </tr>\n",
              "    <tr>\n",
              "      <th>1</th>\n",
              "      <td>0.7857</td>\n",
              "      <td>0.8657</td>\n",
              "      <td>0.7839</td>\n",
              "      <td>0.7871</td>\n",
              "      <td>0.7855</td>\n",
              "      <td>0.5714</td>\n",
              "      <td>0.5714</td>\n",
              "    </tr>\n",
              "    <tr>\n",
              "      <th>2</th>\n",
              "      <td>0.8055</td>\n",
              "      <td>0.8746</td>\n",
              "      <td>0.8096</td>\n",
              "      <td>0.8034</td>\n",
              "      <td>0.8065</td>\n",
              "      <td>0.6111</td>\n",
              "      <td>0.6111</td>\n",
              "    </tr>\n",
              "    <tr>\n",
              "      <th>3</th>\n",
              "      <td>0.7981</td>\n",
              "      <td>0.8678</td>\n",
              "      <td>0.7984</td>\n",
              "      <td>0.7982</td>\n",
              "      <td>0.7983</td>\n",
              "      <td>0.5961</td>\n",
              "      <td>0.5961</td>\n",
              "    </tr>\n",
              "    <tr>\n",
              "      <th>4</th>\n",
              "      <td>0.8028</td>\n",
              "      <td>0.8750</td>\n",
              "      <td>0.8022</td>\n",
              "      <td>0.8035</td>\n",
              "      <td>0.8028</td>\n",
              "      <td>0.6056</td>\n",
              "      <td>0.6056</td>\n",
              "    </tr>\n",
              "    <tr>\n",
              "      <th>5</th>\n",
              "      <td>0.8030</td>\n",
              "      <td>0.8735</td>\n",
              "      <td>0.7988</td>\n",
              "      <td>0.8059</td>\n",
              "      <td>0.8023</td>\n",
              "      <td>0.6060</td>\n",
              "      <td>0.6060</td>\n",
              "    </tr>\n",
              "    <tr>\n",
              "      <th>6</th>\n",
              "      <td>0.8008</td>\n",
              "      <td>0.8722</td>\n",
              "      <td>0.8079</td>\n",
              "      <td>0.7969</td>\n",
              "      <td>0.8024</td>\n",
              "      <td>0.6016</td>\n",
              "      <td>0.6016</td>\n",
              "    </tr>\n",
              "    <tr>\n",
              "      <th>7</th>\n",
              "      <td>0.7892</td>\n",
              "      <td>0.8673</td>\n",
              "      <td>0.7848</td>\n",
              "      <td>0.7921</td>\n",
              "      <td>0.7884</td>\n",
              "      <td>0.5784</td>\n",
              "      <td>0.5785</td>\n",
              "    </tr>\n",
              "    <tr>\n",
              "      <th>8</th>\n",
              "      <td>0.7889</td>\n",
              "      <td>0.8564</td>\n",
              "      <td>0.7937</td>\n",
              "      <td>0.7865</td>\n",
              "      <td>0.7901</td>\n",
              "      <td>0.5777</td>\n",
              "      <td>0.5778</td>\n",
              "    </tr>\n",
              "    <tr>\n",
              "      <th>9</th>\n",
              "      <td>0.7828</td>\n",
              "      <td>0.8554</td>\n",
              "      <td>0.7615</td>\n",
              "      <td>0.7958</td>\n",
              "      <td>0.7783</td>\n",
              "      <td>0.5656</td>\n",
              "      <td>0.5661</td>\n",
              "    </tr>\n",
              "    <tr>\n",
              "      <th>Mean</th>\n",
              "      <td>0.7958</td>\n",
              "      <td>0.8681</td>\n",
              "      <td>0.7941</td>\n",
              "      <td>0.7971</td>\n",
              "      <td>0.7956</td>\n",
              "      <td>0.5916</td>\n",
              "      <td>0.5916</td>\n",
              "    </tr>\n",
              "    <tr>\n",
              "      <th>SD</th>\n",
              "      <td>0.0079</td>\n",
              "      <td>0.0069</td>\n",
              "      <td>0.0135</td>\n",
              "      <td>0.0065</td>\n",
              "      <td>0.0089</td>\n",
              "      <td>0.0157</td>\n",
              "      <td>0.0156</td>\n",
              "    </tr>\n",
              "  </tbody>\n",
              "</table>\n",
              "</div>"
            ],
            "text/plain": [
              "      Accuracy     AUC  Recall   Prec.      F1   Kappa     MCC\n",
              "0       0.8011  0.8734  0.7998  0.8022  0.8010  0.6022  0.6022\n",
              "1       0.7857  0.8657  0.7839  0.7871  0.7855  0.5714  0.5714\n",
              "2       0.8055  0.8746  0.8096  0.8034  0.8065  0.6111  0.6111\n",
              "3       0.7981  0.8678  0.7984  0.7982  0.7983  0.5961  0.5961\n",
              "4       0.8028  0.8750  0.8022  0.8035  0.8028  0.6056  0.6056\n",
              "5       0.8030  0.8735  0.7988  0.8059  0.8023  0.6060  0.6060\n",
              "6       0.8008  0.8722  0.8079  0.7969  0.8024  0.6016  0.6016\n",
              "7       0.7892  0.8673  0.7848  0.7921  0.7884  0.5784  0.5785\n",
              "8       0.7889  0.8564  0.7937  0.7865  0.7901  0.5777  0.5778\n",
              "9       0.7828  0.8554  0.7615  0.7958  0.7783  0.5656  0.5661\n",
              "Mean    0.7958  0.8681  0.7941  0.7971  0.7956  0.5916  0.5916\n",
              "SD      0.0079  0.0069  0.0135  0.0065  0.0089  0.0157  0.0156"
            ]
          },
          "metadata": {
            "tags": []
          }
        }
      ]
    },
    {
      "cell_type": "code",
      "metadata": {
        "colab": {
          "background_save": true
        },
        "id": "BE-L5kLKMVdh"
      },
      "source": [
        ""
      ],
      "execution_count": null,
      "outputs": []
    }
  ]
}