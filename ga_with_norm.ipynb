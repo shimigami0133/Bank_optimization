{
 "cells": [
  {
   "cell_type": "code",
   "execution_count": 1,
   "metadata": {},
   "outputs": [
    {
     "name": "stdout",
     "output_type": "stream",
     "text": [
      "Enter the total amount\n",
      "1000\n"
     ]
    }
   ],
   "source": [
    "total_amount=float(input('Enter the total amount\\n'))\n"
   ]
  },
  {
   "cell_type": "code",
   "execution_count": 2,
   "metadata": {},
   "outputs": [
    {
     "data": {
      "text/plain": [
       "[<matplotlib.lines.Line2D at 0x1be0fc76da0>]"
      ]
     },
     "execution_count": 2,
     "metadata": {},
     "output_type": "execute_result"
    }
   ],
   "source": [
    "from nsga2.problem import Problem\n",
    "from nsga2.evolution import Evolution\n",
    "import matplotlib.pyplot as plt\n",
    "import math\n",
    "def f1(x):\n",
    "    s = 0\n",
    "    gain_percent=[0.1118,0.1144,0.1354,0.1433]\n",
    "    for i in range(len(x)):\n",
    "        x[i]=x[i]/sum(x)\n",
    "    for i in range(len(x)):\n",
    "        s += gain_percent[i]*x[i]*total_amount\n",
    "    # retruns the sum of gain from each classes.\n",
    "    return 1/s\n",
    "# we need to maximise the gain but minimise the loss percent\n",
    "# therfore we are maximising the function f1 and minimising the function \n",
    "#variable_classes [w1,w2,w3,w4]     [small_bussiness_loans,'home_loan','credit_cards','auto loans']\n",
    "#Variable limits [(0.1,0.5),(0,0.5),(0,0.15),(0,0.5)]\n",
    "problem = Problem(num_of_variables=4, objectives=[f1], variables_range=[(0,1),(0,1),(0,1),(0,1)], expand=False)\n",
    "evo = Evolution(problem,num_of_individuals=100, mutation_param=2,num_of_generations=100)\n",
    "func = [i.objectives for i in  evo.evolve()]\n",
    "\n",
    "function1 = [i for i in func]\n",
    "#function2 = [i[1] for i in func]\n",
    "plt.xlabel('Function 1  gain', fontsize=15)\n",
    "#plt.ylabel('Function 2  loss', fontsize=15)\n",
    "plt.plot(function1)\n",
    "#plt.show()"
   ]
  },
  {
   "cell_type": "code",
   "execution_count": 6,
   "metadata": {},
   "outputs": [],
   "source": [
    "t=evo.evolve()[0].features"
   ]
  },
  {
   "cell_type": "code",
   "execution_count": 7,
   "metadata": {},
   "outputs": [],
   "source": [
    "u=0\n",
    "gain_percent=[0.1118,0.1144,0.1354,0.1433]\n",
    "t1=[]\n",
    "for i in t:\n",
    "    t1.append((i/sum(t)))"
   ]
  },
  {
   "cell_type": "code",
   "execution_count": 8,
   "metadata": {},
   "outputs": [
    {
     "name": "stdout",
     "output_type": "stream",
     "text": [
      "130.04835669785987\n"
     ]
    }
   ],
   "source": [
    "for i in range(4):\n",
    "    u+=1000*gain_percent[i]*t1[i]\n",
    "print(u)"
   ]
  },
  {
   "cell_type": "code",
   "execution_count": 37,
   "metadata": {},
   "outputs": [
    {
     "data": {
      "text/plain": [
       "182.47586566868722"
      ]
     },
     "execution_count": 37,
     "metadata": {},
     "output_type": "execute_result"
    }
   ],
   "source": [
    "1/evo.evolve()[0].objectives[0]"
   ]
  },
  {
   "cell_type": "code",
   "execution_count": 33,
   "metadata": {},
   "outputs": [
    {
     "data": {
      "text/plain": [
       "182.64178776367584"
      ]
     },
     "execution_count": 33,
     "metadata": {},
     "output_type": "execute_result"
    }
   ],
   "source": [
    "1/evo.evolve()[0].objectives[0]"
   ]
  },
  {
   "cell_type": "code",
   "execution_count": 11,
   "metadata": {},
   "outputs": [
    {
     "data": {
      "text/plain": [
       "[0.29814025305035063,\n",
       " 0.19727749348128704,\n",
       " 0.3645117653429868,\n",
       " 0.49630835758284164]"
      ]
     },
     "execution_count": 11,
     "metadata": {},
     "output_type": "execute_result"
    }
   ],
   "source": [
    "t"
   ]
  },
  {
   "cell_type": "code",
   "execution_count": null,
   "metadata": {},
   "outputs": [],
   "source": []
  }
 ],
 "metadata": {
  "kernelspec": {
   "display_name": "Python 3",
   "language": "python",
   "name": "python3"
  },
  "language_info": {
   "codemirror_mode": {
    "name": "ipython",
    "version": 3
   },
   "file_extension": ".py",
   "mimetype": "text/x-python",
   "name": "python",
   "nbconvert_exporter": "python",
   "pygments_lexer": "ipython3",
   "version": "3.7.1"
  }
 },
 "nbformat": 4,
 "nbformat_minor": 2
}
