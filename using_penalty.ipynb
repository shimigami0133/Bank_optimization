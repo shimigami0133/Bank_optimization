{
 "cells": [
  {
   "cell_type": "code",
   "execution_count": 3,
   "metadata": {
    "scrolled": true
   },
   "outputs": [
    {
     "name": "stdout",
     "output_type": "stream",
     "text": [
      "Enter the total amount\n",
      "1000\n",
      "enter the losses for each class \n",
      "\n",
      "enter the amount not returned in home_loan\n",
      "1\n",
      "enter the amount not returned in bussiness\n",
      "1\n",
      "enter the amount not returned in credit_card\n",
      "1\n",
      "enter the amount not returned in vehicle\n",
      "1\n"
     ]
    }
   ],
   "source": [
    "total_amount=float(input('Enter the total amount\\n'))\n",
    "print('enter the losses for each class \\n')\n",
    "classes=['home_loan','bussiness','credit_card','vehicle']\n",
    "loss_amount=[]\n",
    "for i in range(4):\n",
    "    print('enter the amount not returned in %s'%classes[i])\n",
    "    loss_amount.append(float(input()))"
   ]
  },
  {
   "cell_type": "code",
   "execution_count": 16,
   "metadata": {},
   "outputs": [
    {
     "data": {
      "text/plain": [
       "[<matplotlib.lines.Line2D at 0x20df7621898>]"
      ]
     },
     "execution_count": 16,
     "metadata": {},
     "output_type": "execute_result"
    },
    {
     "data": {
      "image/png": "[encoded data removed]",
      "text/plain": [
       "<Figure size 432x288 with 1 Axes>"
      ]
     },
     "metadata": {
      "needs_background": "light"
     },
     "output_type": "display_data"
    }
   ],
   "source": [
    "# from nsga2.problem import Problem\n",
    "from nsga2.evolution import Evolution\n",
    "import matplotlib.pyplot as plt\n",
    "import math\n",
    "def penalty(array):\n",
    "    boundary_constr = (max(sum(array)-1,0))**2   # \"sum x = 1\" constraint\n",
    "    return boundary_constr\n",
    "def f1(x):\n",
    "    s = 0\n",
    "    gain_percent=[0.1118,0.1144,0.1354,0.1433]\n",
    "    for i in range(len(x)):\n",
    "        s += gain_percent[i]*x[i]*total_amount\n",
    "    # retruns the sum of gain from each classes.\n",
    "    if(sum(x)>1):\n",
    "        s-=1000+2000*(sum(x)-1)**2\n",
    "    return 1/s\n",
    "# we need to maximise the gain but minimise the loss percent\n",
    "# therfore we are maximising the function f1 and minimising the function \n",
    "#variable_classes [w1,w2,w3,w4]     [small_bussiness_loans,'home_loan','credit_cards','auto loans']\n",
    "#Variable limits [(0.1,0.5),(0,0.5),(0,0.15),(0,0.5)]\n",
    "problem = Problem(num_of_variables=4, objectives=[f1], variables_range=[(0,1),(0,1),(0,1),(0,1)], expand=False)\n",
    "evo = Evolution(problem, mutation_param=4,num_of_generations=100)\n",
    "func = [i.objectives for i in evo.evolve()]\n",
    "function1 = [i for i in func]\n",
    "#function2 = [i[1] for i in func]\n",
    "plt.xlabel('Function 1  gain', fontsize=15)\n",
    "#plt.ylabel('Function 2  loss', fontsize=15)\n",
    "plt.plot(function1)\n",
    "#plt.show()"
   ]
  },
  {
   "cell_type": "code",
   "execution_count": 17,
   "metadata": {
    "scrolled": true
   },
   "outputs": [
    {
     "data": {
      "text/plain": [
       "[[-0.0011689079431439582]]"
      ]
     },
     "execution_count": 17,
     "metadata": {},
     "output_type": "execute_result"
    }
   ],
   "source": [
    "func"
   ]
  },
  {
   "cell_type": "code",
   "execution_count": 18,
   "metadata": {},
   "outputs": [],
   "source": [
    "features=evo.evolve()[0].features"
   ]
  },
  {
   "cell_type": "code",
   "execution_count": 21,
   "metadata": {},
   "outputs": [
    {
     "data": {
      "text/plain": [
       "[0.0004317770736814579,\n",
       " 0.00015707046885605867,\n",
       " 0.18007307157991717,\n",
       " 0.8481020935583795]"
      ]
     },
     "execution_count": 21,
     "metadata": {},
     "output_type": "execute_result"
    }
   ],
   "source": [
    "features"
   ]
  },
  {
   "cell_type": "code",
   "execution_count": 625,
   "metadata": {},
   "outputs": [
    {
     "data": {
      "text/plain": [
       "504.90000000000003"
      ]
     },
     "execution_count": 625,
     "metadata": {},
     "output_type": "execute_result"
    }
   ],
   "source": [
    "1000*0.1118+1000*0.1144+1000*0.1354+1000*0.1433"
   ]
  },
  {
   "cell_type": "code",
   "execution_count": 626,
   "metadata": {},
   "outputs": [
    {
     "data": {
      "text/plain": [
       "154.10940869670398"
      ]
     },
     "execution_count": 626,
     "metadata": {},
     "output_type": "execute_result"
    }
   ],
   "source": [
    "np.sum((np.array(features)*1000)*[0.1118,0.1144,0.1354,0.1433])"
   ]
  },
  {
   "cell_type": "code",
   "execution_count": null,
   "metadata": {},
   "outputs": [],
   "source": []
  }
 ],
 "metadata": {
  "kernelspec": {
   "display_name": "Python 3",
   "language": "python",
   "name": "python3"
  },
  "language_info": {
   "codemirror_mode": {
    "name": "ipython",
    "version": 3
   },
   "file_extension": ".py",
   "mimetype": "text/x-python",
   "name": "python",
   "nbconvert_exporter": "python",
   "pygments_lexer": "ipython3",
   "version": "3.7.1"
  }
 },
 "nbformat": 4,
 "nbformat_minor": 2
}
